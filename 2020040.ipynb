{
 "cells": [
  {
   "cell_type": "code",
   "execution_count": 34,
   "id": "a9be2159",
   "metadata": {},
   "outputs": [],
   "source": [
    "import pandas as pd \n",
    "import numpy as np"
   ]
  },
  {
   "cell_type": "code",
   "execution_count": 9,
   "id": "444c6baa",
   "metadata": {},
   "outputs": [
    {
     "name": "stdout",
     "output_type": "stream",
     "text": [
      "                        Datetime             Tweet Id  \\\n",
      "0      2023-01-22 13:44:34+00:00  1617156270871689984   \n",
      "1      2023-01-22 13:44:39+00:00  1617156291046129920   \n",
      "2      2023-01-22 13:44:44+00:00  1617156308926340096   \n",
      "3      2023-01-22 13:44:49+00:00  1617156332297250048   \n",
      "4      2023-01-22 13:44:52+00:00  1617156345064570112   \n",
      "...                          ...                  ...   \n",
      "49996  2023-01-24 06:57:56+00:00  1617778712082089984   \n",
      "49997  2023-01-24 06:57:59+00:00  1617778726393240064   \n",
      "49998  2023-01-24 06:58:00+00:00  1617778728481989888   \n",
      "49999  2023-01-24 06:58:01+00:00  1617778731678040064   \n",
      "50000  2023-01-24 06:58:01+00:00  1617778733355790080   \n",
      "\n",
      "                                                    Text         Username  \\\n",
      "0      ChatGPTã§éŠã¶ã®å¿˜ã‚Œã¦ãŸï¼ï¼\\næ›¸é¡žä...      mochico0123   \n",
      "1      @AlexandrovnaIng Prohibition of ChatGPT has be...  Caput_LupinumSG   \n",
      "2      Schaut Euch an, was @fobizz @DianaKnodel alles...            ciffi   \n",
      "3      Bow down to chatGPT ðŸ«¡..... https://t.co/ENT...    Vishwasrisiri   \n",
      "4      Profilinde vatan, TÃ¼rkiye falan yazan bireyle...   0xGenetikciniz   \n",
      "...                                                  ...              ...   \n",
      "49996  #ChatGPT ist ein #Chatbot, der durch kÃ¼nstlic...     HorstKrieger   \n",
      "49997  @r8r Ich hab mal die AI dazu befragt (ChatGPT)...            werpu   \n",
      "49998  5 minuti di #chatGPT e ho capito che apprende ...   marcopiccinini   \n",
      "49999  Portland Shop Uses ChatGPT To Tell Family Stor...    EuniceNyandat   \n",
      "50000  Ahora sueÃ±o con el dÃ­a en que Amazon integre...     AmericoSD_69   \n",
      "\n",
      "                                               Permalink  \\\n",
      "0      https://twitter.com/mochico0123/status/1617156...   \n",
      "1      https://twitter.com/Caput_LupinumSG/status/161...   \n",
      "2      https://twitter.com/ciffi/status/1617156308926...   \n",
      "3      https://twitter.com/Vishwasrisiri/status/16171...   \n",
      "4      https://twitter.com/0xGenetikciniz/status/1617...   \n",
      "...                                                  ...   \n",
      "49996  https://twitter.com/HorstKrieger/status/161777...   \n",
      "49997  https://twitter.com/werpu/status/1617778726393...   \n",
      "49998  https://twitter.com/marcopiccinini/status/1617...   \n",
      "49999  https://twitter.com/EuniceNyandat/status/16177...   \n",
      "50000  https://twitter.com/AmericoSD_69/status/161777...   \n",
      "\n",
      "                                      User  \\\n",
      "0          https://twitter.com/mochico0123   \n",
      "1      https://twitter.com/Caput_LupinumSG   \n",
      "2                https://twitter.com/ciffi   \n",
      "3        https://twitter.com/Vishwasrisiri   \n",
      "4       https://twitter.com/0xGenetikciniz   \n",
      "...                                    ...   \n",
      "49996     https://twitter.com/HorstKrieger   \n",
      "49997            https://twitter.com/werpu   \n",
      "49998   https://twitter.com/marcopiccinini   \n",
      "49999    https://twitter.com/EuniceNyandat   \n",
      "50000     https://twitter.com/AmericoSD_69   \n",
      "\n",
      "                                                Outlinks  \\\n",
      "0                                                    NaN   \n",
      "1                                                    NaN   \n",
      "2      ['https://us02web.zoom.us/webinar/register/801...   \n",
      "3      ['https://twitter.com/agadmator/status/1617155...   \n",
      "4                                                    NaN   \n",
      "...                                                  ...   \n",
      "49996  ['https://lnkd.in/dzHbz5-z', 'https://lnkd.in/...   \n",
      "49997                                                NaN   \n",
      "49998                                                NaN   \n",
      "49999                     ['https://drumup.io/s/DkswB6']   \n",
      "50000                                                NaN   \n",
      "\n",
      "                                              CountLinks  ReplyCount  \\\n",
      "0                                                    NaN           1   \n",
      "1                                                    NaN           1   \n",
      "2      ['https://t.co/DsoeVJrPBp', 'https://t.co/HflT...           0   \n",
      "3                            ['https://t.co/ENTSzi2AQ9']           0   \n",
      "4                                                    NaN           0   \n",
      "...                                                  ...         ...   \n",
      "49996  ['https://t.co/qxUJZinuNO', 'https://t.co/lFZD...           0   \n",
      "49997                                                NaN           0   \n",
      "49998                                                NaN           0   \n",
      "49999                        ['https://t.co/rzGvr6yTOc']           0   \n",
      "50000                                                NaN           0   \n",
      "\n",
      "       RetweetCount  LikeCount  QuoteCount       ConversationId Language  \\\n",
      "0                 0          5           0  1617156270871689984       ja   \n",
      "1                 0          5           0  1617148639993799936       en   \n",
      "2                 0          4           0  1617156308926340096       de   \n",
      "3                 0          2           0  1617156332297250048       en   \n",
      "4                 0          4           0  1617156345064570112       tr   \n",
      "...             ...        ...         ...                  ...      ...   \n",
      "49996             0          0           0  1617778712082089984       de   \n",
      "49997             0          0           0  1617774521586700032       de   \n",
      "49998             0          0           0  1617778728481989888       it   \n",
      "49999             0          0           0  1617778731678040064       en   \n",
      "50000             0          0           0  1617778733355790080       es   \n",
      "\n",
      "                                                  Source  \\\n",
      "0      <a href=\"http://twitter.com/download/iphone\" r...   \n",
      "1      <a href=\"http://twitter.com/download/iphone\" r...   \n",
      "2      <a href=\"http://twitter.com/#!/download/ipad\" ...   \n",
      "3      <a href=\"http://twitter.com/download/android\" ...   \n",
      "4      <a href=\"http://twitter.com/download/iphone\" r...   \n",
      "...                                                  ...   \n",
      "49996  <a href=\"http://www.linkedin.com/\" rel=\"nofoll...   \n",
      "49997  <a href=\"https://mobile.twitter.com\" rel=\"nofo...   \n",
      "49998  <a href=\"http://twitter.com/download/iphone\" r...   \n",
      "49999  <a href=\"https://drumup.io\" rel=\"nofollow\">dru...   \n",
      "50000  <a href=\"http://twitter.com/download/android\" ...   \n",
      "\n",
      "                                                   Media  \\\n",
      "0                                                    NaN   \n",
      "1                                                    NaN   \n",
      "2      [Photo(previewUrl='https://pbs.twimg.com/media...   \n",
      "3                                                    NaN   \n",
      "4                                                    NaN   \n",
      "...                                                  ...   \n",
      "49996                                                NaN   \n",
      "49997  [Photo(previewUrl='https://pbs.twimg.com/media...   \n",
      "49998  [Photo(previewUrl='https://pbs.twimg.com/media...   \n",
      "49999                                                NaN   \n",
      "50000                                                NaN   \n",
      "\n",
      "                                             QuotedTweet  \\\n",
      "0                                                    NaN   \n",
      "1                                                    NaN   \n",
      "2      https://twitter.com/DianaKnodel/status/1617153...   \n",
      "3      https://twitter.com/agadmator/status/161715501...   \n",
      "4                                                    NaN   \n",
      "...                                                  ...   \n",
      "49996                                                NaN   \n",
      "49997                                                NaN   \n",
      "49998                                                NaN   \n",
      "49999                                                NaN   \n",
      "50000                                                NaN   \n",
      "\n",
      "                                          MentionedUsers  \\\n",
      "0                                                    NaN   \n",
      "1      [User(username='AlexandrovnaIng', id=282705900...   \n",
      "2      [User(username='fobizz', id=884708145792253952...   \n",
      "3                                                    NaN   \n",
      "4                                                    NaN   \n",
      "...                                                  ...   \n",
      "49996                                                NaN   \n",
      "49997  [User(username='r8r', id=15451529, displayname...   \n",
      "49998                                                NaN   \n",
      "49999                                                NaN   \n",
      "50000                                                NaN   \n",
      "\n",
      "                                                 hashtag  hastag_counts  \n",
      "0                                                     []              0  \n",
      "1                                                     []              0  \n",
      "2                                           ['#ChatGPT']              1  \n",
      "3                                                     []              0  \n",
      "4                                                     []              0  \n",
      "...                                                  ...            ...  \n",
      "49996  ['#ChatGPT', '#Chatbot,', '#KI', '#AI', '#Dial...              6  \n",
      "49997                                                 []              0  \n",
      "49998                                       ['#chatGPT']              1  \n",
      "49999                                                 []              0  \n",
      "50000                                                 []              0  \n",
      "\n",
      "[50001 rows x 20 columns]\n"
     ]
    }
   ],
   "source": [
    "df = pd.read_excel(r'Downloads/chatgpt1.xlsx')\n",
    "print(df)"
   ]
  },
  {
   "cell_type": "code",
   "execution_count": 13,
   "id": "b78a1368",
   "metadata": {},
   "outputs": [],
   "source": [
    "\n",
    "#Creating a function that takes care of all the preprocessing stuff.\n",
    "def preprocess():\n",
    "\n",
    "  df['Text'] = df['Text'].str.lower() # Ensuring all words in the Tweet column of training data are lowercased\n",
    "\n",
    "  # Parsing the stop_words.txt file and storing all the words in a list.\n",
    "  stopwords = []\n",
    "  with open('chatgpt1.xlsx','r') as file:    \n",
    "      for line in file:         \n",
    "          for word in line.split():            \n",
    "              stopwords.append(word)\n",
    "\n",
    "  # Removing all stopwords from all the tweets in training data.\n",
    "  df[\"Text\"] = trained[\"Text\"].apply(lambda func: ' '.join(sw \n",
    "                                            for sw in func.split() \n",
    "                                            if sw not in stopwords))\n",
    "    \n",
    "  #Training Data\n",
    "  df['Text'] = df['Text'].str.replace(r'http?://[^\\s<>\"]+|www\\.[^\\s<>\"]+', '') # Removing hyperlinks from all the tweets\n",
    "  df['Text'] = df['Text'].str.replace('@[A-Za-z0-9]+', '') # Removing usernames from all the tweets.\n",
    "  df['Text'] = df['Text'].str.replace(r'\\B#\\w*[a-zA-Z]+\\w*', '') # Removing hashtags, including the text, from all the tweets\n",
    "  df['Text'] = df['Text'].str.replace('\\d+', '') # Removing numbers from all the tweets\n",
    "\n",
    "\n",
    "  special_chars = [\"!\",'\"',\"%\",\"&\",\"amp\",\"'\",\"(\",\")\", \"*\",\"+\",\",\",\"-\",\".\",\n",
    "                  \"/\",\":\",\";\",\"<\",\"=\",\">\",\"?\",\"[\",\"\\\\\",\"]\",\"^\",\"_\",\n",
    "                  \"`\",\"{\",\"|\",\"}\",\"~\",\"–\",\"@\",\"#\",\"$\"]\n",
    "\n",
    "  for c in special_chars:\n",
    "      df['Text'] = df['Text'].str.replace(c,'') # Removing all special characters from all the tweets"
   ]
  },
  {
   "cell_type": "code",
   "execution_count": 15,
   "id": "99f8e28e",
   "metadata": {},
   "outputs": [
    {
     "data": {
      "text/html": [
       "<div>\n",
       "<style scoped>\n",
       "    .dataframe tbody tr th:only-of-type {\n",
       "        vertical-align: middle;\n",
       "    }\n",
       "\n",
       "    .dataframe tbody tr th {\n",
       "        vertical-align: top;\n",
       "    }\n",
       "\n",
       "    .dataframe thead th {\n",
       "        text-align: right;\n",
       "    }\n",
       "</style>\n",
       "<table border=\"1\" class=\"dataframe\">\n",
       "  <thead>\n",
       "    <tr style=\"text-align: right;\">\n",
       "      <th></th>\n",
       "      <th>Datetime</th>\n",
       "      <th>Tweet Id</th>\n",
       "      <th>Text</th>\n",
       "      <th>Username</th>\n",
       "      <th>Permalink</th>\n",
       "      <th>User</th>\n",
       "      <th>Outlinks</th>\n",
       "      <th>CountLinks</th>\n",
       "      <th>ReplyCount</th>\n",
       "      <th>RetweetCount</th>\n",
       "      <th>LikeCount</th>\n",
       "      <th>QuoteCount</th>\n",
       "      <th>ConversationId</th>\n",
       "      <th>Language</th>\n",
       "      <th>Source</th>\n",
       "      <th>Media</th>\n",
       "      <th>QuotedTweet</th>\n",
       "      <th>MentionedUsers</th>\n",
       "      <th>hashtag</th>\n",
       "      <th>hastag_counts</th>\n",
       "    </tr>\n",
       "  </thead>\n",
       "  <tbody>\n",
       "    <tr>\n",
       "      <th>0</th>\n",
       "      <td>2023-01-22 13:44:34+00:00</td>\n",
       "      <td>1617156270871689984</td>\n",
       "      <td>chatgptã§éšã¶ã®å¿˜ã‚œã¦ãÿï¼ï¼\\næ›¸é¡žä...</td>\n",
       "      <td>mochico0123</td>\n",
       "      <td>https://twitter.com/mochico0123/status/1617156...</td>\n",
       "      <td>https://twitter.com/mochico0123</td>\n",
       "      <td>NaN</td>\n",
       "      <td>NaN</td>\n",
       "      <td>1</td>\n",
       "      <td>0</td>\n",
       "      <td>5</td>\n",
       "      <td>0</td>\n",
       "      <td>1617156270871689984</td>\n",
       "      <td>ja</td>\n",
       "      <td>&lt;a href=\"http://twitter.com/download/iphone\" r...</td>\n",
       "      <td>NaN</td>\n",
       "      <td>NaN</td>\n",
       "      <td>NaN</td>\n",
       "      <td>[]</td>\n",
       "      <td>0</td>\n",
       "    </tr>\n",
       "    <tr>\n",
       "      <th>1</th>\n",
       "      <td>2023-01-22 13:44:39+00:00</td>\n",
       "      <td>1617156291046129920</td>\n",
       "      <td>@alexandrovnaing prohibition of chatgpt has be...</td>\n",
       "      <td>Caput_LupinumSG</td>\n",
       "      <td>https://twitter.com/Caput_LupinumSG/status/161...</td>\n",
       "      <td>https://twitter.com/Caput_LupinumSG</td>\n",
       "      <td>NaN</td>\n",
       "      <td>NaN</td>\n",
       "      <td>1</td>\n",
       "      <td>0</td>\n",
       "      <td>5</td>\n",
       "      <td>0</td>\n",
       "      <td>1617148639993799936</td>\n",
       "      <td>en</td>\n",
       "      <td>&lt;a href=\"http://twitter.com/download/iphone\" r...</td>\n",
       "      <td>NaN</td>\n",
       "      <td>NaN</td>\n",
       "      <td>[User(username='AlexandrovnaIng', id=282705900...</td>\n",
       "      <td>[]</td>\n",
       "      <td>0</td>\n",
       "    </tr>\n",
       "    <tr>\n",
       "      <th>2</th>\n",
       "      <td>2023-01-22 13:44:44+00:00</td>\n",
       "      <td>1617156308926340096</td>\n",
       "      <td>schaut euch an, was @fobizz @dianaknodel alles...</td>\n",
       "      <td>ciffi</td>\n",
       "      <td>https://twitter.com/ciffi/status/1617156308926...</td>\n",
       "      <td>https://twitter.com/ciffi</td>\n",
       "      <td>['https://us02web.zoom.us/webinar/register/801...</td>\n",
       "      <td>['https://t.co/DsoeVJrPBp', 'https://t.co/HflT...</td>\n",
       "      <td>0</td>\n",
       "      <td>0</td>\n",
       "      <td>4</td>\n",
       "      <td>0</td>\n",
       "      <td>1617156308926340096</td>\n",
       "      <td>de</td>\n",
       "      <td>&lt;a href=\"http://twitter.com/#!/download/ipad\" ...</td>\n",
       "      <td>[Photo(previewUrl='https://pbs.twimg.com/media...</td>\n",
       "      <td>https://twitter.com/DianaKnodel/status/1617153...</td>\n",
       "      <td>[User(username='fobizz', id=884708145792253952...</td>\n",
       "      <td>['#ChatGPT']</td>\n",
       "      <td>1</td>\n",
       "    </tr>\n",
       "    <tr>\n",
       "      <th>3</th>\n",
       "      <td>2023-01-22 13:44:49+00:00</td>\n",
       "      <td>1617156332297250048</td>\n",
       "      <td>bow down to chatgpt ðÿ«¡..... https://t.co/ent...</td>\n",
       "      <td>Vishwasrisiri</td>\n",
       "      <td>https://twitter.com/Vishwasrisiri/status/16171...</td>\n",
       "      <td>https://twitter.com/Vishwasrisiri</td>\n",
       "      <td>['https://twitter.com/agadmator/status/1617155...</td>\n",
       "      <td>['https://t.co/ENTSzi2AQ9']</td>\n",
       "      <td>0</td>\n",
       "      <td>0</td>\n",
       "      <td>2</td>\n",
       "      <td>0</td>\n",
       "      <td>1617156332297250048</td>\n",
       "      <td>en</td>\n",
       "      <td>&lt;a href=\"http://twitter.com/download/android\" ...</td>\n",
       "      <td>NaN</td>\n",
       "      <td>https://twitter.com/agadmator/status/161715501...</td>\n",
       "      <td>NaN</td>\n",
       "      <td>[]</td>\n",
       "      <td>0</td>\n",
       "    </tr>\n",
       "    <tr>\n",
       "      <th>4</th>\n",
       "      <td>2023-01-22 13:44:52+00:00</td>\n",
       "      <td>1617156345064570112</td>\n",
       "      <td>profilinde vatan, tã¼rkiye falan yazan bireyle...</td>\n",
       "      <td>0xGenetikciniz</td>\n",
       "      <td>https://twitter.com/0xGenetikciniz/status/1617...</td>\n",
       "      <td>https://twitter.com/0xGenetikciniz</td>\n",
       "      <td>NaN</td>\n",
       "      <td>NaN</td>\n",
       "      <td>0</td>\n",
       "      <td>0</td>\n",
       "      <td>4</td>\n",
       "      <td>0</td>\n",
       "      <td>1617156345064570112</td>\n",
       "      <td>tr</td>\n",
       "      <td>&lt;a href=\"http://twitter.com/download/iphone\" r...</td>\n",
       "      <td>NaN</td>\n",
       "      <td>NaN</td>\n",
       "      <td>NaN</td>\n",
       "      <td>[]</td>\n",
       "      <td>0</td>\n",
       "    </tr>\n",
       "  </tbody>\n",
       "</table>\n",
       "</div>"
      ],
      "text/plain": [
       "                    Datetime             Tweet Id  \\\n",
       "0  2023-01-22 13:44:34+00:00  1617156270871689984   \n",
       "1  2023-01-22 13:44:39+00:00  1617156291046129920   \n",
       "2  2023-01-22 13:44:44+00:00  1617156308926340096   \n",
       "3  2023-01-22 13:44:49+00:00  1617156332297250048   \n",
       "4  2023-01-22 13:44:52+00:00  1617156345064570112   \n",
       "\n",
       "                                                Text         Username  \\\n",
       "0  chatgptã§éšã¶ã®å¿˜ã‚œã¦ãÿï¼ï¼\\næ›¸é¡žä...      mochico0123   \n",
       "1  @alexandrovnaing prohibition of chatgpt has be...  Caput_LupinumSG   \n",
       "2  schaut euch an, was @fobizz @dianaknodel alles...            ciffi   \n",
       "3  bow down to chatgpt ðÿ«¡..... https://t.co/ent...    Vishwasrisiri   \n",
       "4  profilinde vatan, tã¼rkiye falan yazan bireyle...   0xGenetikciniz   \n",
       "\n",
       "                                           Permalink  \\\n",
       "0  https://twitter.com/mochico0123/status/1617156...   \n",
       "1  https://twitter.com/Caput_LupinumSG/status/161...   \n",
       "2  https://twitter.com/ciffi/status/1617156308926...   \n",
       "3  https://twitter.com/Vishwasrisiri/status/16171...   \n",
       "4  https://twitter.com/0xGenetikciniz/status/1617...   \n",
       "\n",
       "                                  User  \\\n",
       "0      https://twitter.com/mochico0123   \n",
       "1  https://twitter.com/Caput_LupinumSG   \n",
       "2            https://twitter.com/ciffi   \n",
       "3    https://twitter.com/Vishwasrisiri   \n",
       "4   https://twitter.com/0xGenetikciniz   \n",
       "\n",
       "                                            Outlinks  \\\n",
       "0                                                NaN   \n",
       "1                                                NaN   \n",
       "2  ['https://us02web.zoom.us/webinar/register/801...   \n",
       "3  ['https://twitter.com/agadmator/status/1617155...   \n",
       "4                                                NaN   \n",
       "\n",
       "                                          CountLinks  ReplyCount  \\\n",
       "0                                                NaN           1   \n",
       "1                                                NaN           1   \n",
       "2  ['https://t.co/DsoeVJrPBp', 'https://t.co/HflT...           0   \n",
       "3                        ['https://t.co/ENTSzi2AQ9']           0   \n",
       "4                                                NaN           0   \n",
       "\n",
       "   RetweetCount  LikeCount  QuoteCount       ConversationId Language  \\\n",
       "0             0          5           0  1617156270871689984       ja   \n",
       "1             0          5           0  1617148639993799936       en   \n",
       "2             0          4           0  1617156308926340096       de   \n",
       "3             0          2           0  1617156332297250048       en   \n",
       "4             0          4           0  1617156345064570112       tr   \n",
       "\n",
       "                                              Source  \\\n",
       "0  <a href=\"http://twitter.com/download/iphone\" r...   \n",
       "1  <a href=\"http://twitter.com/download/iphone\" r...   \n",
       "2  <a href=\"http://twitter.com/#!/download/ipad\" ...   \n",
       "3  <a href=\"http://twitter.com/download/android\" ...   \n",
       "4  <a href=\"http://twitter.com/download/iphone\" r...   \n",
       "\n",
       "                                               Media  \\\n",
       "0                                                NaN   \n",
       "1                                                NaN   \n",
       "2  [Photo(previewUrl='https://pbs.twimg.com/media...   \n",
       "3                                                NaN   \n",
       "4                                                NaN   \n",
       "\n",
       "                                         QuotedTweet  \\\n",
       "0                                                NaN   \n",
       "1                                                NaN   \n",
       "2  https://twitter.com/DianaKnodel/status/1617153...   \n",
       "3  https://twitter.com/agadmator/status/161715501...   \n",
       "4                                                NaN   \n",
       "\n",
       "                                      MentionedUsers       hashtag  \\\n",
       "0                                                NaN            []   \n",
       "1  [User(username='AlexandrovnaIng', id=282705900...            []   \n",
       "2  [User(username='fobizz', id=884708145792253952...  ['#ChatGPT']   \n",
       "3                                                NaN            []   \n",
       "4                                                NaN            []   \n",
       "\n",
       "   hastag_counts  \n",
       "0              0  \n",
       "1              0  \n",
       "2              1  \n",
       "3              0  \n",
       "4              0  "
      ]
     },
     "execution_count": 15,
     "metadata": {},
     "output_type": "execute_result"
    }
   ],
   "source": [
    "df.head()"
   ]
  },
  {
   "cell_type": "code",
   "execution_count": 17,
   "id": "3d23f704",
   "metadata": {},
   "outputs": [
    {
     "data": {
      "text/plain": [
       "(50001, 20)"
      ]
     },
     "execution_count": 17,
     "metadata": {},
     "output_type": "execute_result"
    }
   ],
   "source": [
    "# shape of dataframe\n",
    "df.shape"
   ]
  },
  {
   "cell_type": "code",
   "execution_count": 18,
   "id": "76b08a50",
   "metadata": {},
   "outputs": [
    {
     "data": {
      "text/plain": [
       "Datetime              0\n",
       "Tweet Id              0\n",
       "Text                  5\n",
       "Username              0\n",
       "Permalink             0\n",
       "User                  0\n",
       "Outlinks          30059\n",
       "CountLinks        30059\n",
       "ReplyCount            0\n",
       "RetweetCount          0\n",
       "LikeCount             0\n",
       "QuoteCount            0\n",
       "ConversationId        0\n",
       "Language              0\n",
       "Source                0\n",
       "Media             40499\n",
       "QuotedTweet       46438\n",
       "MentionedUsers    32832\n",
       "hashtag               0\n",
       "hastag_counts         0\n",
       "dtype: int64"
      ]
     },
     "execution_count": 18,
     "metadata": {},
     "output_type": "execute_result"
    }
   ],
   "source": [
    "df.isnull().sum()"
   ]
  },
  {
   "cell_type": "code",
   "execution_count": 19,
   "id": "322e7dbe",
   "metadata": {},
   "outputs": [
    {
     "name": "stdout",
     "output_type": "stream",
     "text": [
      "No of training examples: 40001\n",
      "No of testing examples: 10000 \n"
     ]
    }
   ],
   "source": []
  },
  {
   "cell_type": "code",
   "execution_count": 21,
   "id": "08f963cd",
   "metadata": {},
   "outputs": [
    {
     "data": {
      "text/plain": [
       "(0        ja\n",
       " 1        en\n",
       " 2        de\n",
       " 3        en\n",
       " 4        tr\n",
       "          ..\n",
       " 49996    de\n",
       " 49997    de\n",
       " 49998    it\n",
       " 49999    en\n",
       " 50000    es\n",
       " Name: Language, Length: 50001, dtype: object,\n",
       " 0        chatgptã§éšã¶ã®å¿˜ã‚œã¦ãÿï¼ï¼\\næ›¸é¡žä...\n",
       " 1        @alexandrovnaing prohibition of chatgpt has be...\n",
       " 2        schaut euch an, was @fobizz @dianaknodel alles...\n",
       " 3        bow down to chatgpt ðÿ«¡..... https://t.co/ent...\n",
       " 4        profilinde vatan, tã¼rkiye falan yazan bireyle...\n",
       "                                ...                        \n",
       " 49996    #chatgpt ist ein #chatbot, der durch kã¼nstlic...\n",
       " 49997    @r8r ich hab mal die ai dazu befragt (chatgpt)...\n",
       " 49998    5 minuti di #chatgpt e ho capito che apprende ...\n",
       " 49999    portland shop uses chatgpt to tell family stor...\n",
       " 50000    ahora sueã±o con el dã­a en que amazon integre...\n",
       " Name: Text, Length: 50001, dtype: object)"
      ]
     },
     "execution_count": 21,
     "metadata": {},
     "output_type": "execute_result"
    }
   ],
   "source": [
    "y_col = 'Language'\n",
    "y = df[y_col]\n",
    "\n",
    "x_col = 'Text'\n",
    "x = df [x_col]\n",
    "y,x"
   ]
  },
  {
   "cell_type": "code",
   "execution_count": 36,
   "id": "82fce604",
   "metadata": {},
   "outputs": [
    {
     "name": "stdout",
     "output_type": "stream",
     "text": [
      "No of training examples: 40001\n",
      "No of testing examples: 10000 \n"
     ]
    }
   ],
   "source": [
    "#training of the x samples\n",
    "training_data_x = x.sample(frac=0.8 , random_state=25)\n",
    "training_data_x = x.drop(training_data_x.index)\n",
    "\n",
    "\n",
    "testing_data_x = x.sample(frac=0.8 , random_state=25)\n",
    "testing_data_x = x.drop(training_data_x.index)\n",
    "\n",
    "print(f\"No of training examples: {training_data.shape[0]}\")\n",
    "print(f\"No of testing examples: {testing_data.shape[0]} \")"
   ]
  },
  {
   "cell_type": "code",
   "execution_count": 37,
   "id": "2c38e004",
   "metadata": {},
   "outputs": [
    {
     "name": "stdout",
     "output_type": "stream",
     "text": [
      "No of training examples: 40001\n",
      "No of testing examples: 10000 \n"
     ]
    }
   ],
   "source": [
    "#training of the y samples\n",
    "training_data_y = y.sample(frac=0.8 , random_state=25)\n",
    "training_data_y = y.drop(training_data_x.index)\n",
    "\n",
    "\n",
    "testing_data_y = y.sample(frac=0.8 , random_state=25)\n",
    "testing_data_y = y.drop(training_data_x.index)\n",
    "\n",
    "print(f\"No of training examples: {training_data.shape[0]}\")\n",
    "print(f\"No of testing examples: {testing_data.shape[0]} \")"
   ]
  },
  {
   "cell_type": "code",
   "execution_count": 38,
   "id": "f77580a9",
   "metadata": {},
   "outputs": [],
   "source": [
    "def computeTF(wordDict , bagOfWords):\n",
    "    tfDict ={}\n",
    "    bagOfWordsCount = len(bagOfWords)\n",
    "    for word , count in wordDict.items():\n",
    "        tfDict[word] = count / float(bagOfWordsCount)\n",
    "        return tfDict"
   ]
  },
  {
   "cell_type": "code",
   "execution_count": 39,
   "id": "539e557c",
   "metadata": {},
   "outputs": [],
   "source": [
    "#CountVectorize\n",
    "import numpy as np\n",
    "from sklearn.feature_extraction.text import CountVectorizer\n",
    "\n",
    "# Handle missing values\n",
    "training_data_x = np.where(pd.isnull(training_data_x), '', training_data_x)\n",
    "testing_data_x = np.where(pd.isnull(testing_data_x), '', testing_data_x)\n",
    "\n",
    "# create CountVectorizer object\n",
    "count_vect = CountVectorizer()\n",
    "\n",
    "# fit and transform the training data\n",
    "X_train_counts = count_vect.fit_transform(training_data_x)\n",
    "\n",
    "# transform the testing data\n",
    "X_test_counts = count_vect.transform(testing_data_x)\n"
   ]
  },
  {
   "cell_type": "code",
   "execution_count": 40,
   "id": "a64f403b",
   "metadata": {},
   "outputs": [],
   "source": [
    "#CountTFIDF\n",
    "from sklearn.feature_extraction.text import TfidfVectorizer\n",
    "\n",
    "# create TfidfVectorizer object\n",
    "tfidf_vect = TfidfVectorizer()\n",
    "\n",
    "# fit and transform the training data\n",
    "X_train_tfidf = tfidf_vect.fit_transform(training_data_x)\n",
    "\n",
    "# transform the testing data\n",
    "X_test_tfidf = tfidf_vect.transform(testing_data_x)\n"
   ]
  },
  {
   "cell_type": "code",
   "execution_count": 41,
   "id": "1a890f17",
   "metadata": {},
   "outputs": [
    {
     "name": "stdout",
     "output_type": "stream",
     "text": [
      "Training set - Vectorized data:\n",
      "[[0 0 0 ... 0 0 0]\n",
      " [0 0 0 ... 0 0 0]\n",
      " [0 0 0 ... 0 0 0]\n",
      " ...\n",
      " [0 0 0 ... 0 0 0]\n",
      " [0 0 0 ... 0 0 0]\n",
      " [0 0 0 ... 0 0 0]]\n",
      "Testing set - Vectorized data:\n",
      "[[0 0 0 ... 0 0 0]\n",
      " [0 0 0 ... 0 0 0]\n",
      " [0 0 0 ... 0 0 0]\n",
      " ...\n",
      " [0 0 0 ... 0 0 0]\n",
      " [0 0 0 ... 0 0 0]\n",
      " [0 0 0 ... 0 0 0]]\n"
     ]
    }
   ],
   "source": [
    "# Display the vectorized data for training set\n",
    "print(\"Training set - Vectorized data:\")\n",
    "print(X_train_counts.toarray())\n",
    "\n",
    "# Display the vectorized data for testing set\n",
    "print(\"Testing set - Vectorized data:\")\n",
    "print(X_test_counts.toarray())\n"
   ]
  },
  {
   "cell_type": "code",
   "execution_count": 44,
   "id": "b9eb0ec3",
   "metadata": {},
   "outputs": [
    {
     "name": "stdout",
     "output_type": "stream",
     "text": [
      "Number of samples in X_train_counts: 10000\n",
      "Number of labels in training_data_y: 40001\n"
     ]
    }
   ],
   "source": [
    "print(\"Number of samples in X_train_counts:\", X_train_counts.shape[0])\n",
    "print(\"Number of labels in training_data_y:\", len(training_data_y))\n"
   ]
  },
  {
   "cell_type": "code",
   "execution_count": 46,
   "id": "bbd611bc",
   "metadata": {},
   "outputs": [
    {
     "name": "stderr",
     "output_type": "stream",
     "text": [
      "/Users/student/anaconda3/lib/python3.9/site-packages/sklearn/metrics/_classification.py:1344: UndefinedMetricWarning: Precision is ill-defined and being set to 0.0 in labels with no predicted samples. Use `zero_division` parameter to control this behavior.\n",
      "  _warn_prf(average, modifier, msg_start, len(result))\n"
     ]
    },
    {
     "name": "stdout",
     "output_type": "stream",
     "text": [
      "Decision Tree - Accuracy: 0.5232, Precision: 0.0182, Recall: 0.0174, F1 Score: 0.0169\n"
     ]
    }
   ],
   "source": [
    "from sklearn.tree import DecisionTreeClassifier\n",
    "from sklearn.metrics import accuracy_score, precision_score, recall_score, f1_score\n",
    "\n",
    "# Initialize the Decision Tree classifier\n",
    "decision_tree = DecisionTreeClassifier()\n",
    "\n",
    "# Train the Decision Tree classifier\n",
    "decision_tree.fit(X_train_counts, training_data_y[:X_train_counts.shape[0]])\n",
    "\n",
    "# Predict on the testing set\n",
    "decision_tree_preds = decision_tree.predict(X_test_counts)\n",
    "\n",
    "# Calculate evaluation metrics\n",
    "accuracy = accuracy_score(testing_data_y, decision_tree_preds)\n",
    "precision = precision_score(testing_data_y, decision_tree_preds, average='macro')\n",
    "recall = recall_score(testing_data_y, decision_tree_preds, average='macro')\n",
    "f1 = f1_score(testing_data_y, decision_tree_preds, average='macro')\n",
    "\n",
    "# Print the evaluation metrics\n",
    "print(\"Decision Tree - Accuracy: {:.4f}, Precision: {:.4f}, Recall: {:.4f}, F1 Score: {:.4f}\"\n",
    "      .format(accuracy, precision, recall, f1))\n"
   ]
  },
  {
   "cell_type": "code",
   "execution_count": 48,
   "id": "1ceea1f6",
   "metadata": {},
   "outputs": [
    {
     "name": "stderr",
     "output_type": "stream",
     "text": [
      "/Users/student/anaconda3/lib/python3.9/site-packages/sklearn/metrics/_classification.py:1344: UndefinedMetricWarning: Precision is ill-defined and being set to 0.0 in labels with no predicted samples. Use `zero_division` parameter to control this behavior.\n",
      "  _warn_prf(average, modifier, msg_start, len(result))\n"
     ]
    },
    {
     "name": "stdout",
     "output_type": "stream",
     "text": [
      "Random Forest - Accuracy: 0.6339, Precision: 0.0179, Recall: 0.0169, F1 Score: 0.0138\n"
     ]
    }
   ],
   "source": [
    "from sklearn.ensemble import RandomForestClassifier\n",
    "from sklearn.metrics import accuracy_score, precision_score, recall_score, f1_score\n",
    "\n",
    "# Initialize the Random Forest classifier\n",
    "random_forest = RandomForestClassifier()\n",
    "\n",
    "# Train the Random Forest classifier\n",
    "random_forest.fit(X_train_counts, training_data_y[:X_train_counts.shape[0]])\n",
    "\n",
    "# Predict on the testing set\n",
    "random_forest_preds = random_forest.predict(X_test_counts)\n",
    "\n",
    "# Calculate evaluation metrics\n",
    "accuracy = accuracy_score(testing_data_y, random_forest_preds)\n",
    "precision = precision_score(testing_data_y, random_forest_preds, average='macro')\n",
    "recall = recall_score(testing_data_y, random_forest_preds, average='macro')\n",
    "f1 = f1_score(testing_data_y, random_forest_preds, average='macro')\n",
    "\n",
    "# Print the evaluation metrics\n",
    "print(\"Random Forest - Accuracy: {:.4f}, Precision: {:.4f}, Recall: {:.4f}, F1 Score: {:.4f}\"\n",
    "      .format(accuracy, precision, recall, f1))\n"
   ]
  },
  {
   "cell_type": "code",
   "execution_count": 49,
   "id": "d90b5080",
   "metadata": {},
   "outputs": [
    {
     "name": "stderr",
     "output_type": "stream",
     "text": [
      "/Users/student/anaconda3/lib/python3.9/site-packages/sklearn/metrics/_classification.py:1344: UndefinedMetricWarning: Precision is ill-defined and being set to 0.0 in labels with no predicted samples. Use `zero_division` parameter to control this behavior.\n",
      "  _warn_prf(average, modifier, msg_start, len(result))\n"
     ]
    },
    {
     "name": "stdout",
     "output_type": "stream",
     "text": [
      "KNN - Accuracy: 0.6112, Precision: 0.0166, Recall: 0.0168, F1 Score: 0.0143\n"
     ]
    }
   ],
   "source": [
    "from sklearn.neighbors import KNeighborsClassifier\n",
    "from sklearn.metrics import accuracy_score, precision_score, recall_score, f1_score\n",
    "\n",
    "# Initialize the KNN classifier\n",
    "knn = KNeighborsClassifier()\n",
    "\n",
    "# Train the KNN classifier\n",
    "knn.fit(X_train_counts, training_data_y[:X_train_counts.shape[0]])\n",
    "\n",
    "# Predict on the testing set\n",
    "knn_preds = knn.predict(X_test_counts)\n",
    "\n",
    "# Calculate evaluation metrics\n",
    "accuracy = accuracy_score(testing_data_y, knn_preds)\n",
    "precision = precision_score(testing_data_y, knn_preds, average='macro')\n",
    "recall = recall_score(testing_data_y, knn_preds, average='macro')\n",
    "f1 = f1_score(testing_data_y, knn_preds, average='macro')\n",
    "\n",
    "# Print the evaluation metrics\n",
    "print(\"KNN - Accuracy: {:.4f}, Precision: {:.4f}, Recall: {:.4f}, F1 Score: {:.4f}\"\n",
    "      .format(accuracy, precision, recall, f1))\n"
   ]
  },
  {
   "cell_type": "code",
   "execution_count": 50,
   "id": "da27effc",
   "metadata": {},
   "outputs": [
    {
     "name": "stdout",
     "output_type": "stream",
     "text": [
      "Multinomial Naïve Bayes - Accuracy: 0.6410, Precision: 0.0123, Recall: 0.0167, F1 Score: 0.0131\n"
     ]
    },
    {
     "name": "stderr",
     "output_type": "stream",
     "text": [
      "/Users/student/anaconda3/lib/python3.9/site-packages/sklearn/metrics/_classification.py:1344: UndefinedMetricWarning: Precision is ill-defined and being set to 0.0 in labels with no predicted samples. Use `zero_division` parameter to control this behavior.\n",
      "  _warn_prf(average, modifier, msg_start, len(result))\n"
     ]
    }
   ],
   "source": [
    "from sklearn.naive_bayes import MultinomialNB\n",
    "from sklearn.metrics import accuracy_score, precision_score, recall_score, f1_score\n",
    "\n",
    "# Initialize the Multinomial Naïve Bayes classifier\n",
    "naive_bayes = MultinomialNB()\n",
    "\n",
    "# Train the Multinomial Naïve Bayes classifier\n",
    "naive_bayes.fit(X_train_counts, training_data_y[:X_train_counts.shape[0]])\n",
    "\n",
    "# Predict on the testing set\n",
    "naive_bayes_preds = naive_bayes.predict(X_test_counts)\n",
    "\n",
    "# Calculate evaluation metrics\n",
    "accuracy = accuracy_score(testing_data_y, naive_bayes_preds)\n",
    "precision = precision_score(testing_data_y, naive_bayes_preds, average='macro')\n",
    "recall = recall_score(testing_data_y, naive_bayes_preds, average='macro')\n",
    "f1 = f1_score(testing_data_y, naive_bayes_preds, average='macro')\n",
    "\n",
    "# Print the evaluation metrics\n",
    "print(\"Multinomial Naïve Bayes - Accuracy: {:.4f}, Precision: {:.4f}, Recall: {:.4f}, F1 Score: {:.4f}\"\n",
    "      .format(accuracy, precision, recall, f1))\n"
   ]
  },
  {
   "cell_type": "code",
   "execution_count": 57,
   "id": "61b95bb0",
   "metadata": {},
   "outputs": [
    {
     "name": "stdout",
     "output_type": "stream",
     "text": [
      "Requirement already satisfied: scikit-learn in ./anaconda3/lib/python3.9/site-packages (1.2.0)\n",
      "Requirement already satisfied: numpy>=1.17.3 in ./.local/lib/python3.9/site-packages (from scikit-learn) (1.23.5)\n",
      "Requirement already satisfied: threadpoolctl>=2.0.0 in ./anaconda3/lib/python3.9/site-packages (from scikit-learn) (2.2.0)\n",
      "Requirement already satisfied: joblib>=1.1.1 in ./anaconda3/lib/python3.9/site-packages (from scikit-learn) (1.1.1)\n",
      "Requirement already satisfied: scipy>=1.3.2 in ./anaconda3/lib/python3.9/site-packages (from scikit-learn) (1.9.3)\n"
     ]
    }
   ],
   "source": [
    "!pip install scikit-learn"
   ]
  },
  {
   "cell_type": "code",
   "execution_count": 63,
   "id": "46a50c03",
   "metadata": {},
   "outputs": [
    {
     "ename": "SyntaxError",
     "evalue": "EOL while scanning string literal (671542044.py, line 1)",
     "output_type": "error",
     "traceback": [
      "\u001b[0;36m  File \u001b[0;32m\"/var/folders/0w/k1m42p4d6q5_frkd8snkm6v80000gn/T/ipykernel_1099/671542044.py\"\u001b[0;36m, line \u001b[0;32m1\u001b[0m\n\u001b[0;31m    with open(\"chatgpt1.xlsx \"r\") as file:\u001b[0m\n\u001b[0m                                          ^\u001b[0m\n\u001b[0;31mSyntaxError\u001b[0m\u001b[0;31m:\u001b[0m EOL while scanning string literal\n"
     ]
    }
   ],
   "source": []
  },
  {
   "cell_type": "code",
   "execution_count": 67,
   "id": "11872d4a",
   "metadata": {},
   "outputs": [
    {
     "ename": "AttributeError",
     "evalue": "'NoneType' object has no attribute 'split'",
     "output_type": "error",
     "traceback": [
      "\u001b[0;31m---------------------------------------------------------------------------\u001b[0m",
      "\u001b[0;31mAttributeError\u001b[0m                            Traceback (most recent call last)",
      "\u001b[0;32m/var/folders/0w/k1m42p4d6q5_frkd8snkm6v80000gn/T/ipykernel_1099/4030825949.py\u001b[0m in \u001b[0;36m<module>\u001b[0;34m\u001b[0m\n\u001b[1;32m     14\u001b[0m \u001b[0;32mfor\u001b[0m \u001b[0mk\u001b[0m \u001b[0;32min\u001b[0m \u001b[0mrange\u001b[0m\u001b[0;34m(\u001b[0m\u001b[0;36m2\u001b[0m\u001b[0;34m,\u001b[0m \u001b[0mmax_clusters\u001b[0m \u001b[0;34m+\u001b[0m \u001b[0;36m1\u001b[0m\u001b[0;34m)\u001b[0m\u001b[0;34m:\u001b[0m\u001b[0;34m\u001b[0m\u001b[0;34m\u001b[0m\u001b[0m\n\u001b[1;32m     15\u001b[0m     \u001b[0mkmeans\u001b[0m \u001b[0;34m=\u001b[0m \u001b[0mKMeans\u001b[0m\u001b[0;34m(\u001b[0m\u001b[0mn_clusters\u001b[0m\u001b[0;34m=\u001b[0m\u001b[0mk\u001b[0m\u001b[0;34m,\u001b[0m \u001b[0mrandom_state\u001b[0m\u001b[0;34m=\u001b[0m\u001b[0;36m42\u001b[0m \u001b[0;34m)\u001b[0m\u001b[0;34m\u001b[0m\u001b[0;34m\u001b[0m\u001b[0m\n\u001b[0;32m---> 16\u001b[0;31m     \u001b[0mkmeans\u001b[0m\u001b[0;34m.\u001b[0m\u001b[0mfit\u001b[0m\u001b[0;34m(\u001b[0m\u001b[0mX\u001b[0m\u001b[0;34m)\u001b[0m\u001b[0;34m\u001b[0m\u001b[0;34m\u001b[0m\u001b[0m\n\u001b[0m\u001b[1;32m     17\u001b[0m     \u001b[0mlabels\u001b[0m \u001b[0;34m=\u001b[0m \u001b[0mkmeans\u001b[0m\u001b[0;34m.\u001b[0m\u001b[0mlabels_\u001b[0m\u001b[0;34m\u001b[0m\u001b[0;34m\u001b[0m\u001b[0m\n\u001b[1;32m     18\u001b[0m     \u001b[0msilhouette_scores\u001b[0m\u001b[0;34m.\u001b[0m\u001b[0mappend\u001b[0m\u001b[0;34m(\u001b[0m\u001b[0msilhouette_score\u001b[0m\u001b[0;34m(\u001b[0m\u001b[0mX\u001b[0m\u001b[0;34m,\u001b[0m \u001b[0mlabels\u001b[0m\u001b[0;34m)\u001b[0m\u001b[0;34m)\u001b[0m\u001b[0;34m\u001b[0m\u001b[0;34m\u001b[0m\u001b[0m\n",
      "\u001b[0;32m~/anaconda3/lib/python3.9/site-packages/sklearn/cluster/_kmeans.py\u001b[0m in \u001b[0;36mfit\u001b[0;34m(self, X, y, sample_weight)\u001b[0m\n\u001b[1;32m   1466\u001b[0m \u001b[0;34m\u001b[0m\u001b[0m\n\u001b[1;32m   1467\u001b[0m             \u001b[0;31m# run a k-means once\u001b[0m\u001b[0;34m\u001b[0m\u001b[0;34m\u001b[0m\u001b[0m\n\u001b[0;32m-> 1468\u001b[0;31m             labels, inertia, centers, n_iter_ = kmeans_single(\n\u001b[0m\u001b[1;32m   1469\u001b[0m                 \u001b[0mX\u001b[0m\u001b[0;34m,\u001b[0m\u001b[0;34m\u001b[0m\u001b[0;34m\u001b[0m\u001b[0m\n\u001b[1;32m   1470\u001b[0m                 \u001b[0msample_weight\u001b[0m\u001b[0;34m,\u001b[0m\u001b[0;34m\u001b[0m\u001b[0;34m\u001b[0m\u001b[0m\n",
      "\u001b[0;32m~/anaconda3/lib/python3.9/site-packages/sklearn/cluster/_kmeans.py\u001b[0m in \u001b[0;36m_kmeans_single_lloyd\u001b[0;34m(X, sample_weight, centers_init, max_iter, verbose, tol, n_threads)\u001b[0m\n\u001b[1;32m    677\u001b[0m     \u001b[0;31m# Threadpoolctl context to limit the number of threads in second level of\u001b[0m\u001b[0;34m\u001b[0m\u001b[0;34m\u001b[0m\u001b[0m\n\u001b[1;32m    678\u001b[0m     \u001b[0;31m# nested parallelism (i.e. BLAS) to avoid oversubscription.\u001b[0m\u001b[0;34m\u001b[0m\u001b[0;34m\u001b[0m\u001b[0m\n\u001b[0;32m--> 679\u001b[0;31m     \u001b[0;32mwith\u001b[0m \u001b[0mthreadpool_limits\u001b[0m\u001b[0;34m(\u001b[0m\u001b[0mlimits\u001b[0m\u001b[0;34m=\u001b[0m\u001b[0;36m1\u001b[0m\u001b[0;34m,\u001b[0m \u001b[0muser_api\u001b[0m\u001b[0;34m=\u001b[0m\u001b[0;34m\"blas\"\u001b[0m\u001b[0;34m)\u001b[0m\u001b[0;34m:\u001b[0m\u001b[0;34m\u001b[0m\u001b[0;34m\u001b[0m\u001b[0m\n\u001b[0m\u001b[1;32m    680\u001b[0m         \u001b[0;32mfor\u001b[0m \u001b[0mi\u001b[0m \u001b[0;32min\u001b[0m \u001b[0mrange\u001b[0m\u001b[0;34m(\u001b[0m\u001b[0mmax_iter\u001b[0m\u001b[0;34m)\u001b[0m\u001b[0;34m:\u001b[0m\u001b[0;34m\u001b[0m\u001b[0;34m\u001b[0m\u001b[0m\n\u001b[1;32m    681\u001b[0m             lloyd_iter(\n",
      "\u001b[0;32m~/anaconda3/lib/python3.9/site-packages/sklearn/utils/fixes.py\u001b[0m in \u001b[0;36mthreadpool_limits\u001b[0;34m(limits, user_api)\u001b[0m\n\u001b[1;32m    149\u001b[0m         \u001b[0;32mreturn\u001b[0m \u001b[0mcontroller\u001b[0m\u001b[0;34m.\u001b[0m\u001b[0mlimit\u001b[0m\u001b[0;34m(\u001b[0m\u001b[0mlimits\u001b[0m\u001b[0;34m=\u001b[0m\u001b[0mlimits\u001b[0m\u001b[0;34m,\u001b[0m \u001b[0muser_api\u001b[0m\u001b[0;34m=\u001b[0m\u001b[0muser_api\u001b[0m\u001b[0;34m)\u001b[0m\u001b[0;34m\u001b[0m\u001b[0;34m\u001b[0m\u001b[0m\n\u001b[1;32m    150\u001b[0m     \u001b[0;32melse\u001b[0m\u001b[0;34m:\u001b[0m\u001b[0;34m\u001b[0m\u001b[0;34m\u001b[0m\u001b[0m\n\u001b[0;32m--> 151\u001b[0;31m         \u001b[0;32mreturn\u001b[0m \u001b[0mthreadpoolctl\u001b[0m\u001b[0;34m.\u001b[0m\u001b[0mthreadpool_limits\u001b[0m\u001b[0;34m(\u001b[0m\u001b[0mlimits\u001b[0m\u001b[0;34m=\u001b[0m\u001b[0mlimits\u001b[0m\u001b[0;34m,\u001b[0m \u001b[0muser_api\u001b[0m\u001b[0;34m=\u001b[0m\u001b[0muser_api\u001b[0m\u001b[0;34m)\u001b[0m\u001b[0;34m\u001b[0m\u001b[0;34m\u001b[0m\u001b[0m\n\u001b[0m\u001b[1;32m    152\u001b[0m \u001b[0;34m\u001b[0m\u001b[0m\n\u001b[1;32m    153\u001b[0m \u001b[0;34m\u001b[0m\u001b[0m\n",
      "\u001b[0;32m~/anaconda3/lib/python3.9/site-packages/threadpoolctl.py\u001b[0m in \u001b[0;36m__init__\u001b[0;34m(self, limits, user_api)\u001b[0m\n\u001b[1;32m    169\u001b[0m             \u001b[0mself\u001b[0m\u001b[0;34m.\u001b[0m\u001b[0m_check_params\u001b[0m\u001b[0;34m(\u001b[0m\u001b[0mlimits\u001b[0m\u001b[0;34m,\u001b[0m \u001b[0muser_api\u001b[0m\u001b[0;34m)\u001b[0m\u001b[0;34m\u001b[0m\u001b[0;34m\u001b[0m\u001b[0m\n\u001b[1;32m    170\u001b[0m \u001b[0;34m\u001b[0m\u001b[0m\n\u001b[0;32m--> 171\u001b[0;31m         \u001b[0mself\u001b[0m\u001b[0;34m.\u001b[0m\u001b[0m_original_info\u001b[0m \u001b[0;34m=\u001b[0m \u001b[0mself\u001b[0m\u001b[0;34m.\u001b[0m\u001b[0m_set_threadpool_limits\u001b[0m\u001b[0;34m(\u001b[0m\u001b[0;34m)\u001b[0m\u001b[0;34m\u001b[0m\u001b[0;34m\u001b[0m\u001b[0m\n\u001b[0m\u001b[1;32m    172\u001b[0m \u001b[0;34m\u001b[0m\u001b[0m\n\u001b[1;32m    173\u001b[0m     \u001b[0;32mdef\u001b[0m \u001b[0m__enter__\u001b[0m\u001b[0;34m(\u001b[0m\u001b[0mself\u001b[0m\u001b[0;34m)\u001b[0m\u001b[0;34m:\u001b[0m\u001b[0;34m\u001b[0m\u001b[0;34m\u001b[0m\u001b[0m\n",
      "\u001b[0;32m~/anaconda3/lib/python3.9/site-packages/threadpoolctl.py\u001b[0m in \u001b[0;36m_set_threadpool_limits\u001b[0;34m(self)\u001b[0m\n\u001b[1;32m    266\u001b[0m             \u001b[0;32mreturn\u001b[0m \u001b[0;32mNone\u001b[0m\u001b[0;34m\u001b[0m\u001b[0;34m\u001b[0m\u001b[0m\n\u001b[1;32m    267\u001b[0m \u001b[0;34m\u001b[0m\u001b[0m\n\u001b[0;32m--> 268\u001b[0;31m         modules = _ThreadpoolInfo(prefixes=self._prefixes,\n\u001b[0m\u001b[1;32m    269\u001b[0m                                   user_api=self._user_api)\n\u001b[1;32m    270\u001b[0m         \u001b[0;32mfor\u001b[0m \u001b[0mmodule\u001b[0m \u001b[0;32min\u001b[0m \u001b[0mmodules\u001b[0m\u001b[0;34m:\u001b[0m\u001b[0;34m\u001b[0m\u001b[0;34m\u001b[0m\u001b[0m\n",
      "\u001b[0;32m~/anaconda3/lib/python3.9/site-packages/threadpoolctl.py\u001b[0m in \u001b[0;36m__init__\u001b[0;34m(self, user_api, prefixes, modules)\u001b[0m\n\u001b[1;32m    338\u001b[0m \u001b[0;34m\u001b[0m\u001b[0m\n\u001b[1;32m    339\u001b[0m             \u001b[0mself\u001b[0m\u001b[0;34m.\u001b[0m\u001b[0mmodules\u001b[0m \u001b[0;34m=\u001b[0m \u001b[0;34m[\u001b[0m\u001b[0;34m]\u001b[0m\u001b[0;34m\u001b[0m\u001b[0;34m\u001b[0m\u001b[0m\n\u001b[0;32m--> 340\u001b[0;31m             \u001b[0mself\u001b[0m\u001b[0;34m.\u001b[0m\u001b[0m_load_modules\u001b[0m\u001b[0;34m(\u001b[0m\u001b[0;34m)\u001b[0m\u001b[0;34m\u001b[0m\u001b[0;34m\u001b[0m\u001b[0m\n\u001b[0m\u001b[1;32m    341\u001b[0m             \u001b[0mself\u001b[0m\u001b[0;34m.\u001b[0m\u001b[0m_warn_if_incompatible_openmp\u001b[0m\u001b[0;34m(\u001b[0m\u001b[0;34m)\u001b[0m\u001b[0;34m\u001b[0m\u001b[0;34m\u001b[0m\u001b[0m\n\u001b[1;32m    342\u001b[0m         \u001b[0;32melse\u001b[0m\u001b[0;34m:\u001b[0m\u001b[0;34m\u001b[0m\u001b[0;34m\u001b[0m\u001b[0m\n",
      "\u001b[0;32m~/anaconda3/lib/python3.9/site-packages/threadpoolctl.py\u001b[0m in \u001b[0;36m_load_modules\u001b[0;34m(self)\u001b[0m\n\u001b[1;32m    369\u001b[0m         \u001b[0;34m\"\"\"Loop through loaded libraries and store supported ones\"\"\"\u001b[0m\u001b[0;34m\u001b[0m\u001b[0;34m\u001b[0m\u001b[0m\n\u001b[1;32m    370\u001b[0m         \u001b[0;32mif\u001b[0m \u001b[0msys\u001b[0m\u001b[0;34m.\u001b[0m\u001b[0mplatform\u001b[0m \u001b[0;34m==\u001b[0m \u001b[0;34m\"darwin\"\u001b[0m\u001b[0;34m:\u001b[0m\u001b[0;34m\u001b[0m\u001b[0;34m\u001b[0m\u001b[0m\n\u001b[0;32m--> 371\u001b[0;31m             \u001b[0mself\u001b[0m\u001b[0;34m.\u001b[0m\u001b[0m_find_modules_with_dyld\u001b[0m\u001b[0;34m(\u001b[0m\u001b[0;34m)\u001b[0m\u001b[0;34m\u001b[0m\u001b[0;34m\u001b[0m\u001b[0m\n\u001b[0m\u001b[1;32m    372\u001b[0m         \u001b[0;32melif\u001b[0m \u001b[0msys\u001b[0m\u001b[0;34m.\u001b[0m\u001b[0mplatform\u001b[0m \u001b[0;34m==\u001b[0m \u001b[0;34m\"win32\"\u001b[0m\u001b[0;34m:\u001b[0m\u001b[0;34m\u001b[0m\u001b[0;34m\u001b[0m\u001b[0m\n\u001b[1;32m    373\u001b[0m             \u001b[0mself\u001b[0m\u001b[0;34m.\u001b[0m\u001b[0m_find_modules_with_enum_process_module_ex\u001b[0m\u001b[0;34m(\u001b[0m\u001b[0;34m)\u001b[0m\u001b[0;34m\u001b[0m\u001b[0;34m\u001b[0m\u001b[0m\n",
      "\u001b[0;32m~/anaconda3/lib/python3.9/site-packages/threadpoolctl.py\u001b[0m in \u001b[0;36m_find_modules_with_dyld\u001b[0;34m(self)\u001b[0m\n\u001b[1;32m    426\u001b[0m \u001b[0;34m\u001b[0m\u001b[0m\n\u001b[1;32m    427\u001b[0m             \u001b[0;31m# Store the module if it is supported and selected\u001b[0m\u001b[0;34m\u001b[0m\u001b[0;34m\u001b[0m\u001b[0m\n\u001b[0;32m--> 428\u001b[0;31m             \u001b[0mself\u001b[0m\u001b[0;34m.\u001b[0m\u001b[0m_make_module_from_path\u001b[0m\u001b[0;34m(\u001b[0m\u001b[0mfilepath\u001b[0m\u001b[0;34m)\u001b[0m\u001b[0;34m\u001b[0m\u001b[0;34m\u001b[0m\u001b[0m\n\u001b[0m\u001b[1;32m    429\u001b[0m \u001b[0;34m\u001b[0m\u001b[0m\n\u001b[1;32m    430\u001b[0m     \u001b[0;32mdef\u001b[0m \u001b[0m_find_modules_with_enum_process_module_ex\u001b[0m\u001b[0;34m(\u001b[0m\u001b[0mself\u001b[0m\u001b[0;34m)\u001b[0m\u001b[0;34m:\u001b[0m\u001b[0;34m\u001b[0m\u001b[0;34m\u001b[0m\u001b[0m\n",
      "\u001b[0;32m~/anaconda3/lib/python3.9/site-packages/threadpoolctl.py\u001b[0m in \u001b[0;36m_make_module_from_path\u001b[0;34m(self, filepath)\u001b[0m\n\u001b[1;32m    513\u001b[0m             \u001b[0;32mif\u001b[0m \u001b[0mprefix\u001b[0m \u001b[0;32min\u001b[0m \u001b[0mself\u001b[0m\u001b[0;34m.\u001b[0m\u001b[0mprefixes\u001b[0m \u001b[0;32mor\u001b[0m \u001b[0muser_api\u001b[0m \u001b[0;32min\u001b[0m \u001b[0mself\u001b[0m\u001b[0;34m.\u001b[0m\u001b[0muser_api\u001b[0m\u001b[0;34m:\u001b[0m\u001b[0;34m\u001b[0m\u001b[0;34m\u001b[0m\u001b[0m\n\u001b[1;32m    514\u001b[0m                 \u001b[0mmodule_class\u001b[0m \u001b[0;34m=\u001b[0m \u001b[0mglobals\u001b[0m\u001b[0;34m(\u001b[0m\u001b[0;34m)\u001b[0m\u001b[0;34m[\u001b[0m\u001b[0mmodule_class\u001b[0m\u001b[0;34m]\u001b[0m\u001b[0;34m\u001b[0m\u001b[0;34m\u001b[0m\u001b[0m\n\u001b[0;32m--> 515\u001b[0;31m                 \u001b[0mmodule\u001b[0m \u001b[0;34m=\u001b[0m \u001b[0mmodule_class\u001b[0m\u001b[0;34m(\u001b[0m\u001b[0mfilepath\u001b[0m\u001b[0;34m,\u001b[0m \u001b[0mprefix\u001b[0m\u001b[0;34m,\u001b[0m \u001b[0muser_api\u001b[0m\u001b[0;34m,\u001b[0m \u001b[0minternal_api\u001b[0m\u001b[0;34m)\u001b[0m\u001b[0;34m\u001b[0m\u001b[0;34m\u001b[0m\u001b[0m\n\u001b[0m\u001b[1;32m    516\u001b[0m                 \u001b[0mself\u001b[0m\u001b[0;34m.\u001b[0m\u001b[0mmodules\u001b[0m\u001b[0;34m.\u001b[0m\u001b[0mappend\u001b[0m\u001b[0;34m(\u001b[0m\u001b[0mmodule\u001b[0m\u001b[0;34m)\u001b[0m\u001b[0;34m\u001b[0m\u001b[0;34m\u001b[0m\u001b[0m\n\u001b[1;32m    517\u001b[0m \u001b[0;34m\u001b[0m\u001b[0m\n",
      "\u001b[0;32m~/anaconda3/lib/python3.9/site-packages/threadpoolctl.py\u001b[0m in \u001b[0;36m__init__\u001b[0;34m(self, filepath, prefix, user_api, internal_api)\u001b[0m\n\u001b[1;32m    604\u001b[0m         \u001b[0mself\u001b[0m\u001b[0;34m.\u001b[0m\u001b[0minternal_api\u001b[0m \u001b[0;34m=\u001b[0m \u001b[0minternal_api\u001b[0m\u001b[0;34m\u001b[0m\u001b[0;34m\u001b[0m\u001b[0m\n\u001b[1;32m    605\u001b[0m         \u001b[0mself\u001b[0m\u001b[0;34m.\u001b[0m\u001b[0m_dynlib\u001b[0m \u001b[0;34m=\u001b[0m \u001b[0mctypes\u001b[0m\u001b[0;34m.\u001b[0m\u001b[0mCDLL\u001b[0m\u001b[0;34m(\u001b[0m\u001b[0mfilepath\u001b[0m\u001b[0;34m,\u001b[0m \u001b[0mmode\u001b[0m\u001b[0;34m=\u001b[0m\u001b[0m_RTLD_NOLOAD\u001b[0m\u001b[0;34m)\u001b[0m\u001b[0;34m\u001b[0m\u001b[0;34m\u001b[0m\u001b[0m\n\u001b[0;32m--> 606\u001b[0;31m         \u001b[0mself\u001b[0m\u001b[0;34m.\u001b[0m\u001b[0mversion\u001b[0m \u001b[0;34m=\u001b[0m \u001b[0mself\u001b[0m\u001b[0;34m.\u001b[0m\u001b[0mget_version\u001b[0m\u001b[0;34m(\u001b[0m\u001b[0;34m)\u001b[0m\u001b[0;34m\u001b[0m\u001b[0;34m\u001b[0m\u001b[0m\n\u001b[0m\u001b[1;32m    607\u001b[0m         \u001b[0mself\u001b[0m\u001b[0;34m.\u001b[0m\u001b[0mnum_threads\u001b[0m \u001b[0;34m=\u001b[0m \u001b[0mself\u001b[0m\u001b[0;34m.\u001b[0m\u001b[0mget_num_threads\u001b[0m\u001b[0;34m(\u001b[0m\u001b[0;34m)\u001b[0m\u001b[0;34m\u001b[0m\u001b[0;34m\u001b[0m\u001b[0m\n\u001b[1;32m    608\u001b[0m         \u001b[0mself\u001b[0m\u001b[0;34m.\u001b[0m\u001b[0m_get_extra_info\u001b[0m\u001b[0;34m(\u001b[0m\u001b[0;34m)\u001b[0m\u001b[0;34m\u001b[0m\u001b[0;34m\u001b[0m\u001b[0m\n",
      "\u001b[0;32m~/anaconda3/lib/python3.9/site-packages/threadpoolctl.py\u001b[0m in \u001b[0;36mget_version\u001b[0;34m(self)\u001b[0m\n\u001b[1;32m    644\u001b[0m                              lambda: None)\n\u001b[1;32m    645\u001b[0m         \u001b[0mget_config\u001b[0m\u001b[0;34m.\u001b[0m\u001b[0mrestype\u001b[0m \u001b[0;34m=\u001b[0m \u001b[0mctypes\u001b[0m\u001b[0;34m.\u001b[0m\u001b[0mc_char_p\u001b[0m\u001b[0;34m\u001b[0m\u001b[0;34m\u001b[0m\u001b[0m\n\u001b[0;32m--> 646\u001b[0;31m         \u001b[0mconfig\u001b[0m \u001b[0;34m=\u001b[0m \u001b[0mget_config\u001b[0m\u001b[0;34m(\u001b[0m\u001b[0;34m)\u001b[0m\u001b[0;34m.\u001b[0m\u001b[0msplit\u001b[0m\u001b[0;34m(\u001b[0m\u001b[0;34m)\u001b[0m\u001b[0;34m\u001b[0m\u001b[0;34m\u001b[0m\u001b[0m\n\u001b[0m\u001b[1;32m    647\u001b[0m         \u001b[0;32mif\u001b[0m \u001b[0mconfig\u001b[0m\u001b[0;34m[\u001b[0m\u001b[0;36m0\u001b[0m\u001b[0;34m]\u001b[0m \u001b[0;34m==\u001b[0m \u001b[0;34mb\"OpenBLAS\"\u001b[0m\u001b[0;34m:\u001b[0m\u001b[0;34m\u001b[0m\u001b[0;34m\u001b[0m\u001b[0m\n\u001b[1;32m    648\u001b[0m             \u001b[0;32mreturn\u001b[0m \u001b[0mconfig\u001b[0m\u001b[0;34m[\u001b[0m\u001b[0;36m1\u001b[0m\u001b[0;34m]\u001b[0m\u001b[0;34m.\u001b[0m\u001b[0mdecode\u001b[0m\u001b[0;34m(\u001b[0m\u001b[0;34m\"utf-8\"\u001b[0m\u001b[0;34m)\u001b[0m\u001b[0;34m\u001b[0m\u001b[0;34m\u001b[0m\u001b[0m\n",
      "\u001b[0;31mAttributeError\u001b[0m: 'NoneType' object has no attribute 'split'"
     ]
    }
   ],
   "source": [
    "from sklearn.feature_extraction.text import TfidfVectorizer\n",
    "from sklearn.cluster import KMeans\n",
    "from sklearn.metrics import silhouette_score\n",
    "import matplotlib.pyplot as plt\n",
    "\n",
    "# Vectorize the text data using TF-IDF\n",
    "vectorizer = TfidfVectorizer()\n",
    "X = vectorizer.fit_transform(df['Text'])\n",
    "\n",
    "# Determine the appropriate number of clusters using the silhouette score\n",
    "silhouette_scores = []\n",
    "max_clusters = 10\n",
    "\n",
    "for k in range(2, max_clusters + 1):\n",
    "    kmeans = KMeans(n_clusters=k, random_state=42 )\n",
    "    kmeans.fit(X)\n",
    "    labels = kmeans.labels_\n",
    "    silhouette_scores.append(silhouette_score(X, labels))\n",
    "\n",
    "# Plot the silhouette scores\n",
    "plt.plot(range(2, max_clusters + 1), silhouette_scores, marker='o')\n",
    "plt.xlabel('Number of Clusters')\n",
    "plt.ylabel('Silhouette Score')\n",
    "plt.title('Silhouette Score vs Number of Clusters')\n",
    "plt.show()\n",
    "\n",
    "# Determine the appropriate number of clusters using the elbow method\n",
    "inertia_scores = []\n",
    "\n",
    "for k in range(2, max_clusters + 1):\n",
    "    kmeans = KMeans(n_clusters=k, random_state=42, n_jobs=-1)\n",
    "    kmeans.fit(X)\n",
    "    inertia_scores.append(kmeans.inertia_)\n",
    "\n",
    "# Plot the inertia scores\n",
    "plt.plot(range(2, max_clusters + 1), inertia_scores, marker='o')\n",
    "plt.xlabel('Number of Clusters')\n",
    "plt.ylabel('Inertia Score')\n",
    "plt.title('Inertia Score vs Number of Clusters')\n",
    "plt.show()\n"
   ]
  },
  {
   "cell_type": "code",
   "execution_count": 70,
   "id": "b58a187a",
   "metadata": {},
   "outputs": [
    {
     "data": {
      "image/png": "[encoded data removed]",
      "text/plain": [
       "<Figure size 800x600 with 2 Axes>"
      ]
     },
     "metadata": {},
     "output_type": "display_data"
    }
   ],
   "source": [
    "import matplotlib.pyplot as plt\n",
    "import seaborn as sns\n",
    "from sklearn.metrics import confusion_matrix\n",
    "\n",
    "# Compute the confusion matrix\n",
    "confusion_matrix = confusion_matrix(testing_data_y, knn_preds)\n",
    "\n",
    "# Plot the confusion matrix\n",
    "plt.figure(figsize=(8, 6))\n",
    "sns.heatmap(confusion_matrix, annot=True, fmt=\"d\", cmap=\"Blues\")\n",
    "plt.title(\"Confusion Matrix\")\n",
    "plt.xlabel(\"Predicted Labels\")\n",
    "plt.ylabel(\"True Labels\")\n",
    "plt.show()\n"
   ]
  },
  {
   "cell_type": "code",
   "execution_count": 72,
   "id": "854b29ca",
   "metadata": {},
   "outputs": [
    {
     "name": "stdout",
     "output_type": "stream",
     "text": [
      "Requirement already satisfied: threadpoolctl in ./anaconda3/lib/python3.9/site-packages (2.2.0)\n",
      "Collecting threadpoolctl\n",
      "  Downloading threadpoolctl-3.1.0-py3-none-any.whl (14 kB)\n",
      "Installing collected packages: threadpoolctl\n",
      "  Attempting uninstall: threadpoolctl\n",
      "    Found existing installation: threadpoolctl 2.2.0\n",
      "    Uninstalling threadpoolctl-2.2.0:\n",
      "      Successfully uninstalled threadpoolctl-2.2.0\n",
      "Successfully installed threadpoolctl-3.1.0\n"
     ]
    }
   ],
   "source": [
    "!pip install --upgrade threadpoolctl\n",
    "\n",
    "1"
   ]
  },
  {
   "cell_type": "code",
   "execution_count": null,
   "id": "54e0b9b4",
   "metadata": {},
   "outputs": [
    {
     "name": "stdout",
     "output_type": "stream",
     "text": [
      "Found existing installation: threadpoolctl 3.1.0\n",
      "Uninstalling threadpoolctl-3.1.0:\n",
      "  Would remove:\n",
      "    /Users/student/anaconda3/lib/python3.9/site-packages/threadpoolctl-3.1.0.dist-info/*\n",
      "    /Users/student/anaconda3/lib/python3.9/site-packages/threadpoolctl.py\n",
      "Proceed (Y/n)? "
     ]
    }
   ],
   "source": [
    "!pip uninstall threadpoolctl\n",
    "!pip install threadpoolctl\n"
   ]
  },
  {
   "cell_type": "code",
   "execution_count": null,
   "id": "8bc45f00",
   "metadata": {},
   "outputs": [],
   "source": [
    "y"
   ]
  },
  {
   "cell_type": "code",
   "execution_count": null,
   "id": "aadc136c",
   "metadata": {},
   "outputs": [],
   "source": []
  }
 ],
 "metadata": {
  "kernelspec": {
   "display_name": "Python 3 (ipykernel)",
   "language": "python",
   "name": "python3"
  },
  "language_info": {
   "codemirror_mode": {
    "name": "ipython",
    "version": 3
   },
   "file_extension": ".py",
   "mimetype": "text/x-python",
   "name": "python",
   "nbconvert_exporter": "python",
   "pygments_lexer": "ipython3",
   "version": "3.9.16"
  }
 },
 "nbformat": 4,
 "nbformat_minor": 5
}
